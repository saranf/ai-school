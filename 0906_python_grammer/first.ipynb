{
 "cells": [
  {
   "cell_type": "code",
   "execution_count": 1,
   "metadata": {},
   "outputs": [
    {
     "name": "stdout",
     "output_type": "stream",
     "text": [
      "Hello Python\n"
     ]
    }
   ],
   "source": [
    "print('Hello Python')"
   ]
  },
  {
   "cell_type": "markdown",
   "metadata": {},
   "source": [
    "### 2024-09-06"
   ]
  },
  {
   "cell_type": "code",
   "execution_count": 2,
   "metadata": {},
   "outputs": [
    {
     "name": "stdout",
     "output_type": "stream",
     "text": [
      "Hello Python\n"
     ]
    },
    {
     "data": {
      "text/plain": [
       "'Hello Python'"
      ]
     },
     "execution_count": 2,
     "metadata": {},
     "output_type": "execute_result"
    }
   ],
   "source": [
    "print('Hello Python')\n",
    "'Hello Python'"
   ]
  },
  {
   "cell_type": "code",
   "execution_count": 3,
   "metadata": {},
   "outputs": [
    {
     "ename": "SyntaxError",
     "evalue": "invalid syntax (2964818882.py, line 1)",
     "output_type": "error",
     "traceback": [
      "\u001b[1;36m  Cell \u001b[1;32mIn[3], line 1\u001b[1;36m\u001b[0m\n\u001b[1;33m    Hello Python\u001b[0m\n\u001b[1;37m          ^\u001b[0m\n\u001b[1;31mSyntaxError\u001b[0m\u001b[1;31m:\u001b[0m invalid syntax\n"
     ]
    }
   ],
   "source": [
    "Hello Python"
   ]
  },
  {
   "cell_type": "code",
   "execution_count": 7,
   "metadata": {},
   "outputs": [
    {
     "name": "stdout",
     "output_type": "stream",
     "text": [
      "3\n",
      "0\n",
      "81\n"
     ]
    }
   ],
   "source": [
    "print(3%4)\n",
    "print(3//4)\n",
    "print(3**4)"
   ]
  },
  {
   "cell_type": "code",
   "execution_count": 4,
   "metadata": {},
   "outputs": [
    {
     "name": "stdout",
     "output_type": "stream",
     "text": [
      "1004\n"
     ]
    }
   ],
   "source": [
    "print(1004)"
   ]
  },
  {
   "cell_type": "code",
   "execution_count": 5,
   "metadata": {},
   "outputs": [
    {
     "ename": "SyntaxError",
     "evalue": "invalid syntax. Perhaps you forgot a comma? (3628629218.py, line 1)",
     "output_type": "error",
     "traceback": [
      "\u001b[1;36m  Cell \u001b[1;32mIn[5], line 1\u001b[1;36m\u001b[0m\n\u001b[1;33m    print(Hello Python)\u001b[0m\n\u001b[1;37m          ^\u001b[0m\n\u001b[1;31mSyntaxError\u001b[0m\u001b[1;31m:\u001b[0m invalid syntax. Perhaps you forgot a comma?\n"
     ]
    }
   ],
   "source": [
    "print(Hello Python)"
   ]
  },
  {
   "cell_type": "code",
   "execution_count": 6,
   "metadata": {},
   "outputs": [
    {
     "name": "stdout",
     "output_type": "stream",
     "text": [
      "3\n"
     ]
    }
   ],
   "source": [
    "print(1+2)"
   ]
  },
  {
   "cell_type": "code",
   "execution_count": null,
   "metadata": {},
   "outputs": [],
   "source": [
    "a=1234 \n",
    "b=1 "
   ]
  },
  {
   "cell_type": "code",
   "execution_count": 8,
   "metadata": {},
   "outputs": [
    {
     "name": "stdout",
     "output_type": "stream",
     "text": [
      "False\n",
      "True\n",
      "False\n",
      "True\n"
     ]
    }
   ],
   "source": [
    "print(5==2)\n",
    "print(5 != 2)\n",
    "print(5 < 2)\n",
    "print(5 > 2)"
   ]
  },
  {
   "cell_type": "code",
   "execution_count": 9,
   "metadata": {},
   "outputs": [
    {
     "name": "stdout",
     "output_type": "stream",
     "text": [
      "False\n",
      "False\n",
      "False\n"
     ]
    }
   ],
   "source": [
    "print((3<5) and (3>0))\n",
    "print((4>7) and (5>8))\n",
    "print(not(5<9))\n"
   ]
  },
  {
   "cell_type": "code",
   "execution_count": 10,
   "metadata": {},
   "outputs": [
    {
     "name": "stdout",
     "output_type": "stream",
     "text": [
      "오늘 날씨가 참 뭉하군\n"
     ]
    }
   ],
   "source": [
    "print('오늘 날씨가 참 뭉하군')"
   ]
  },
  {
   "cell_type": "code",
   "execution_count": 14,
   "metadata": {},
   "outputs": [
    {
     "name": "stdout",
     "output_type": "stream",
     "text": [
      "'낮말'은 새가 듣고 '밤말'은 쥐가 듣는다\n"
     ]
    }
   ],
   "source": [
    "print(\"'낮말'은 새가 듣고 '밤말'은 쥐가 듣는다\")"
   ]
  },
  {
   "cell_type": "code",
   "execution_count": 19,
   "metadata": {},
   "outputs": [
    {
     "name": "stdout",
     "output_type": "stream",
     "text": [
      "ab\n",
      "aaa\n"
     ]
    }
   ],
   "source": [
    "print ('a'+'b')\n",
    "print ('a' * 3)"
   ]
  },
  {
   "cell_type": "code",
   "execution_count": null,
   "metadata": {},
   "outputs": [],
   "source": [
    "a=1234\n",
    "b = input('추출하고 싶은 자릿수 입력 : ')"
   ]
  },
  {
   "cell_type": "code",
   "execution_count": 20,
   "metadata": {},
   "outputs": [
    {
     "name": "stdout",
     "output_type": "stream",
     "text": [
      "1020\n"
     ]
    }
   ],
   "source": [
    "a,b = '10','20'\n",
    "print (a+b)"
   ]
  },
  {
   "cell_type": "code",
   "execution_count": 21,
   "metadata": {},
   "outputs": [
    {
     "name": "stdout",
     "output_type": "stream",
     "text": [
      "30\n"
     ]
    }
   ],
   "source": [
    "a,b = '10','20'\n",
    "print (int(a)+int(b))"
   ]
  },
  {
   "cell_type": "code",
   "execution_count": 23,
   "metadata": {},
   "outputs": [
    {
     "ename": "SyntaxError",
     "evalue": "invalid syntax. Perhaps you forgot a comma? (839710684.py, line 3)",
     "output_type": "error",
     "traceback": [
      "\u001b[1;36m  Cell \u001b[1;32mIn[23], line 3\u001b[1;36m\u001b[0m\n\u001b[1;33m    print(a,'+', b, '=' a+b )\u001b[0m\n\u001b[1;37m                    ^\u001b[0m\n\u001b[1;31mSyntaxError\u001b[0m\u001b[1;31m:\u001b[0m invalid syntax. Perhaps you forgot a comma?\n"
     ]
    }
   ],
   "source": [
    "a = int(input(\"정수 1 : \"))\n",
    "b = int(input(\"정수 2 : \"))\n",
    "print(a,'+', b, '=' ,a+b )"
   ]
  },
  {
   "cell_type": "code",
   "execution_count": 24,
   "metadata": {},
   "outputs": [
    {
     "name": "stdout",
     "output_type": "stream",
     "text": [
      "삼각형의 넓이 36.75\n"
     ]
    }
   ],
   "source": [
    "w= float(input(\"밑변 : \"))\n",
    "h= float(input(\"높이 : \"))\n",
    "result = w * h \n",
    "print('삼각형의 넓이',result)"
   ]
  },
  {
   "cell_type": "code",
   "execution_count": 26,
   "metadata": {},
   "outputs": [
    {
     "name": "stdout",
     "output_type": "stream",
     "text": [
      "지불하실 금액은  18000\n"
     ]
    }
   ],
   "source": [
    "kim = int(input(\"김밥갯수 : \") )\n",
    "dak = int(input(\"떡복이갯수 : \") )\n",
    "ra = int(input(\"라면갯수 : \") )\n",
    "print('지불하실 금액은 ' ,(kim* 3000)+(dak* 3000 )+(ra* 3000))"
   ]
  },
  {
   "cell_type": "code",
   "execution_count": 27,
   "metadata": {},
   "outputs": [
    {
     "name": "stdout",
     "output_type": "stream",
     "text": [
      "1\n",
      "2\n",
      "짝\n",
      "4\n",
      "5\n",
      "짝\n",
      "7\n",
      "8\n",
      "짝\n",
      "10\n",
      "11\n",
      "12\n",
      "짝\n",
      "14\n",
      "15\n",
      "짝\n",
      "17\n",
      "18\n",
      "짝\n",
      "20\n",
      "21\n",
      "22\n",
      "짝\n",
      "24\n",
      "25\n",
      "짝\n",
      "27\n",
      "28\n",
      "짝\n",
      "짝\n",
      "짝\n",
      "짝\n",
      "짝짝\n",
      "짝\n",
      "짝\n",
      "짝짝\n",
      "짝\n",
      "짝\n",
      "짝짝\n"
     ]
    }
   ],
   "source": [
    "l = int(input(\"언제까지?\"))\n",
    "for i in range(1, l):\n",
    "    s = str(i)\n",
    "    if '3' in s or '6' in s or '9' in s:\n",
    "        for c in s:\n",
    "            if c in '369':\n",
    "                print('짝', end='')\n",
    "        print()\n",
    "    else:\n",
    "        print(s)"
   ]
  },
  {
   "cell_type": "code",
   "execution_count": 29,
   "metadata": {},
   "outputs": [
    {
     "name": "stdout",
     "output_type": "stream",
     "text": [
      "짝\n",
      "짝\n",
      "짝\n",
      "짝\n",
      "짝\n",
      "짝\n",
      "짝\n",
      "짝\n",
      "짝\n",
      "짝\n",
      "짝\n",
      "짝\n",
      "짝\n",
      "짝\n",
      "짝\n",
      "짝\n",
      "짝\n",
      "짝\n",
      "짝\n",
      "짝\n",
      "짝\n",
      "짝\n",
      "짝\n",
      "짝\n",
      "짝\n",
      "짝\n",
      "짝\n",
      "짝\n",
      "짝\n",
      "짝\n",
      "짝\n",
      "짝\n",
      "짝\n",
      "짝\n",
      "짝\n",
      "짝\n",
      "짝\n",
      "짝\n",
      "짝\n",
      "짝\n",
      "짝\n",
      "짝\n",
      "짝\n",
      "짝\n",
      "짝\n",
      "짝\n",
      "짝\n",
      "짝\n",
      "짝\n",
      "짝\n",
      "짝\n",
      "짝\n",
      "짝\n",
      "짝\n",
      "짝\n",
      "짝\n",
      "짝\n",
      "짝\n",
      "짝\n",
      "짝\n",
      "짝\n",
      "짝\n",
      "짝\n",
      "짝\n",
      "짝\n",
      "짝\n",
      "짝\n",
      "짝\n",
      "짝\n",
      "짝\n",
      "짝\n",
      "짝\n",
      "짝\n",
      "짝\n",
      "짝\n",
      "짝\n",
      "짝\n",
      "짝\n",
      "짝\n",
      "짝\n",
      "짝\n",
      "짝\n",
      "짝\n",
      "짝\n",
      "짝\n",
      "짝\n",
      "짝\n",
      "짝\n",
      "짝\n",
      "짝\n",
      "짝\n",
      "짝\n",
      "짝\n",
      "짝\n",
      "짝\n",
      "짝\n",
      "짝\n",
      "짝\n",
      "짝\n"
     ]
    }
   ],
   "source": [
    "end = int(input(\"언제까지?\"))\n",
    "for i in range(1, end):\n",
    "    s = end %3 \n",
    "    if s == 1 : \n",
    "        print ('짝')\n",
    "    else :\n",
    "        print (s)"
   ]
  },
  {
   "cell_type": "code",
   "execution_count": null,
   "metadata": {},
   "outputs": [],
   "source": [
    "num = int(input(\"1부터 얼마까지 진행할까요?\"))\n",
    " \n",
    "for i in range(1, num + 1):\n",
    "    total = 0\n",
    "    counter = str(i)\n",
    "    if '3' in counter or '6' in counter or '9' in counter:\n",
    "        total = counter.count('3')+ counter.count('6')+ counter.count('9')\n",
    "        print(\"짝\" * total)\n",
    "        continue\n",
    "    print(i)\n",
    " "
   ]
  },
  {
   "cell_type": "code",
   "execution_count": 30,
   "metadata": {},
   "outputs": [
    {
     "name": "stdout",
     "output_type": "stream",
     "text": [
      "    *\n",
      "   ***\n",
      "  *****\n",
      " *******\n",
      "*********\n"
     ]
    }
   ],
   "source": [
    "def print_tree(height):\n",
    "    for i in range(height):\n",
    "        print(' ' * (height - i - 1) + '*' * (2 * i + 1))\n",
    "\n",
    "tree_height = int(input(\"트리의 높이를 입력하세요: \"))\n",
    "print_tree(tree_height)"
   ]
  },
  {
   "cell_type": "code",
   "execution_count": 31,
   "metadata": {},
   "outputs": [
    {
     "name": "stdout",
     "output_type": "stream",
     "text": [
      "   *\n",
      "  ***\n",
      " *****\n",
      "*******\n"
     ]
    }
   ],
   "source": [
    "def print_tree(height):\n",
    "    for i in range(height):\n",
    "        for j in range(height - i - 1):\n",
    "            print(\" \", end=\"\")\n",
    "        for k in range(2 * i + 1):\n",
    "            print(\"*\", end=\"\")\n",
    "        print()\n",
    "\n",
    "tree_height = int(input(\"트리의 높이를 입력하세요: \"))\n",
    "print_tree(tree_height)\n"
   ]
  },
  {
   "cell_type": "code",
   "execution_count": 32,
   "metadata": {},
   "outputs": [
    {
     "name": "stdout",
     "output_type": "stream",
     "text": [
      "     *\n",
      "    ***\n",
      "   *****\n",
      "  *******\n",
      " *********\n",
      "***********\n",
      " *********\n",
      "  *******\n",
      "   *****\n",
      "    ***\n",
      "     *\n"
     ]
    }
   ],
   "source": [
    "def print_star(n):\n",
    "    for i in range(n):\n",
    "        for j in range(n - i - 1):\n",
    "            print(\" \", end=\"\")\n",
    "        for j in range(2 * i + 1):\n",
    "            print(\"*\", end=\"\")\n",
    "        print()\n",
    "\n",
    "    for i in range(n - 1, 0, -1):\n",
    "        for j in range(n - i):\n",
    "            print(\" \", end=\"\")\n",
    "        for j in range(2 * i - 1):\n",
    "            print(\"*\", end=\"\")\n",
    "        print()\n",
    "\n",
    "size = int(input(\"별 모양의 크기를 입력하세요: \"))\n",
    "print_star(size)\n"
   ]
  },
  {
   "cell_type": "code",
   "execution_count": 33,
   "metadata": {},
   "outputs": [
    {
     "name": "stdout",
     "output_type": "stream",
     "text": [
      "       *\n",
      "      ***\n",
      "     *****\n",
      "    *******\n",
      "       *\n",
      "      ***\n",
      "     *****\n",
      "    *******\n",
      "   *********\n",
      "       *\n",
      "      ***\n",
      "     *****\n",
      "    *******\n",
      "   *********\n",
      "  ***********\n",
      "       *\n",
      "      ***\n",
      "     *****\n",
      "    *******\n",
      "   *********\n",
      "  ***********\n",
      " *************\n",
      "     ***\n",
      "     ***\n",
      "     ***\n"
     ]
    }
   ],
   "source": [
    "def print_christmas_tree(levels):\n",
    "    for level in range(1, levels + 1):\n",
    "        for i in range(level + 3):\n",
    "            for j in range(levels + 3 - i):\n",
    "                print(\" \", end=\"\")\n",
    "            for k in range(2 * i + 1):\n",
    "                print(\"*\", end=\"\")\n",
    "            print()\n",
    "\n",
    "    for i in range(3):\n",
    "        for j in range(levels + 1):\n",
    "            print(\" \", end=\"\")\n",
    "        print(\"***\")\n",
    "\n",
    "levels = int(input(\"크리스마스 트리의 층 수를 입력하세요: \"))\n",
    "print_christmas_tree(levels)\n"
   ]
  }
 ],
 "metadata": {
  "kernelspec": {
   "display_name": "Python 3",
   "language": "python",
   "name": "python3"
  },
  "language_info": {
   "codemirror_mode": {
    "name": "ipython",
    "version": 3
   },
   "file_extension": ".py",
   "mimetype": "text/x-python",
   "name": "python",
   "nbconvert_exporter": "python",
   "pygments_lexer": "ipython3",
   "version": "3.12.5"
  }
 },
 "nbformat": 4,
 "nbformat_minor": 2
}
