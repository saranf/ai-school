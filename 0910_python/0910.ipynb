{
 "cells": [
  {
   "cell_type": "markdown",
   "metadata": {},
   "source": [
    "## 2024-09-10\n"
   ]
  },
  {
   "cell_type": "code",
   "execution_count": 1,
   "metadata": {},
   "outputs": [
    {
     "name": "stdout",
     "output_type": "stream",
     "text": [
      "['닥터스트레인지', '슈퍼맨', '스플릿', '배트맨']\n"
     ]
    }
   ],
   "source": [
    "movie_rank=['닥터스트레인지','슈퍼맨','스플릿','배트맨']\n",
    "print(movie_rank)"
   ]
  },
  {
   "cell_type": "code",
   "execution_count": null,
   "metadata": {},
   "outputs": [],
   "source": [
    "class FourCal:\n",
    "    def setdata(self, first, second):\n",
    "        self.first = first\n",
    "        self.second = second\n",
    "    def add(self):\n",
    "        result = self.first + self.second\n",
    "        return result\n",
    "    def mul(self):\n",
    "        result = self.first * self.second\n",
    "        return result\n",
    "    def sub(self):\n",
    "        result = self.first - self.second\n",
    "        return result\n",
    "    def div(self):\n",
    "        result = self.first / self.second\n",
    "        return result"
   ]
  },
  {
   "cell_type": "code",
   "execution_count": null,
   "metadata": {},
   "outputs": [],
   "source": [
    "a, b, c = input(\"숫자 세 개를 입력하세요\").split(' ')\n",
    " \n",
    "sum = int(a) + int(b) + int(c)\n",
    " \n",
    "print(sum)\n",
    " "
   ]
  },
  {
   "cell_type": "code",
   "execution_count": 2,
   "metadata": {},
   "outputs": [
    {
     "ename": "KeyboardInterrupt",
     "evalue": "",
     "output_type": "error",
     "traceback": [
      "\u001b[1;31m---------------------------------------------------------------------------\u001b[0m",
      "\u001b[1;31mKeyboardInterrupt\u001b[0m                         Traceback (most recent call last)",
      "Cell \u001b[1;32mIn[2], line 36\u001b[0m\n\u001b[0;32m     34\u001b[0m t\u001b[38;5;241m.\u001b[39mpenup()\n\u001b[0;32m     35\u001b[0m t\u001b[38;5;241m.\u001b[39monscreenclick(getCood)\n\u001b[1;32m---> 36\u001b[0m \u001b[43mt\u001b[49m\u001b[38;5;241;43m.\u001b[39;49m\u001b[43mdone\u001b[49m\u001b[43m(\u001b[49m\u001b[43m)\u001b[49m\n",
      "File \u001b[1;32m<string>:8\u001b[0m, in \u001b[0;36mmainloop\u001b[1;34m()\u001b[0m\n",
      "File \u001b[1;32mc:\\Users\\USER\\AppData\\Local\\Programs\\Python\\Python312\\Lib\\turtle.py:803\u001b[0m, in \u001b[0;36mTurtleScreenBase.mainloop\u001b[1;34m(self)\u001b[0m\n\u001b[0;32m    790\u001b[0m \u001b[38;5;28;01mdef\u001b[39;00m \u001b[38;5;21mmainloop\u001b[39m(\u001b[38;5;28mself\u001b[39m):\n\u001b[0;32m    791\u001b[0m \u001b[38;5;250m    \u001b[39m\u001b[38;5;124;03m\"\"\"Starts event loop - calling Tkinter's mainloop function.\u001b[39;00m\n\u001b[0;32m    792\u001b[0m \n\u001b[0;32m    793\u001b[0m \u001b[38;5;124;03m    No argument.\u001b[39;00m\n\u001b[1;32m   (...)\u001b[0m\n\u001b[0;32m    801\u001b[0m \n\u001b[0;32m    802\u001b[0m \u001b[38;5;124;03m    \"\"\"\u001b[39;00m\n\u001b[1;32m--> 803\u001b[0m     \u001b[38;5;28;43mself\u001b[39;49m\u001b[38;5;241;43m.\u001b[39;49m\u001b[43mcv\u001b[49m\u001b[38;5;241;43m.\u001b[39;49m\u001b[43mtk\u001b[49m\u001b[38;5;241;43m.\u001b[39;49m\u001b[43mmainloop\u001b[49m\u001b[43m(\u001b[49m\u001b[43m)\u001b[49m\n",
      "\u001b[1;31mKeyboardInterrupt\u001b[0m: "
     ]
    },
    {
     "ename": "",
     "evalue": "",
     "output_type": "error",
     "traceback": [
      "\u001b[1;31mThe Kernel crashed while executing code in the current cell or a previous cell. \n",
      "\u001b[1;31mPlease review the code in the cell(s) to identify a possible cause of the failure. \n",
      "\u001b[1;31mClick <a href='https://aka.ms/vscodeJupyterKernelCrash'>here</a> for more info. \n",
      "\u001b[1;31mView Jupyter <a href='command:jupyter.viewOutput'>log</a> for further details."
     ]
    }
   ],
   "source": [
    "import turtle as t\n",
    " \n",
    "class myTurtle:\n",
    " \n",
    " \n",
    "    def __init__(self,n,color,pos) -> None:\n",
    "        self.n = n\n",
    "        self.color = color\n",
    "        self.pos = pos\n",
    "       \n",
    "    def render(self):\n",
    "     \n",
    "        t.color('red', self.color)\n",
    "        t.setpos(self.pos[0],self.pos[1])\n",
    " \n",
    "        t.pendown()\n",
    "        t.begin_fill()\n",
    "     \n",
    "        for i in range(0,self.n):\n",
    "            t.forward(100)\n",
    "            t.left(360/self.n)\n",
    "       \n",
    "        t.end_fill()\n",
    "        t.penup()\n",
    "   \n",
    " \n",
    " \n",
    "def getCood(x,y):\n",
    "    now = myTurtle(4,\"yellow\",(x,y))\n",
    "    now.render()\n",
    "   \n",
    " \n",
    "sc = t.Screen()\n",
    "t.penup()\n",
    "t.onscreenclick(getCood)\n",
    "t.done()\n",
    " "
   ]
  },
  {
   "cell_type": "code",
   "execution_count": 1,
   "metadata": {},
   "outputs": [],
   "source": [
    "import turtle as t\n",
    "import random\n",
    "\n",
    "# Define a class for the custom turtle\n",
    "class myTurtle:\n",
    "    def __init__(self, color, pos) -> None:\n",
    "        self.color = color  # Color to fill\n",
    "        self.pos = pos  # Position for drawing\n",
    "    \n",
    "    def render(self):\n",
    "        t.shape(\"turtle\")  # Set the shape to turtle\n",
    "        t.color('black', self.color)\n",
    "        t.setpos(self.pos[0], self.pos[1])\n",
    "        \n",
    "        t.pendown()  # Start drawing\n",
    "        t.begin_fill()  # Begin filling the shape\n",
    "        \n",
    "        # Draw a square (4 sides)\n",
    "        for i in range(4):\n",
    "            t.forward(100)  # Move forward by 100 units\n",
    "            t.left(90)  # Rotate left by 90 degrees to make a square\n",
    "        \n",
    "        t.end_fill()  # End filling the shape\n",
    "        t.penup()  # Stop drawing\n",
    "\n",
    "# Function to handle clicks and call the turtle class\n",
    "def getCood(x, y):\n",
    "    # List of colors to choose from\n",
    "    colors = ['yellow', 'blue', 'green', 'purple', 'orange', 'pink', 'cyan', 'lightgreen']\n",
    "    random_color = random.choice(colors)  # Pick a random color from the list\n",
    "    \n",
    "    # Creating a turtle for drawing a square with random color\n",
    "    now = myTurtle(random_color, (x, y))\n",
    "    now.render()\n",
    "\n",
    "# Set up the screen and its title\n",
    "sc = t.Screen()\n",
    "sc.title(\"Colorful Turtle Squares\")  # Set the title of the turtle window\n",
    "\n",
    "# Prepare the turtle\n",
    "t.penup()\n",
    "t.onscreenclick(getCood)  # Assign the click event to draw squares on click\n",
    "t.done()  # Finish the turtle drawing\n"
   ]
  },
  {
   "cell_type": "code",
   "execution_count": 1,
   "metadata": {},
   "outputs": [],
   "source": [
    "import turtle as t\n",
    "import random\n",
    "\n",
    "class myTurtle:\n",
    "    def __init__(self, color, pos) -> None:\n",
    "        self.color = color\n",
    "        self.pos = pos\n",
    "    \n",
    "    def render(self):\n",
    "        t.shape(\"turtle\")\n",
    "        t.color('black', self.color)\n",
    "        t.setpos(self.pos[0], self.pos[1])\n",
    "        \n",
    "        t.pendown()\n",
    "        t.begin_fill()\n",
    "        \n",
    "        for i in range(4):\n",
    "            t.forward(100)\n",
    "            t.left(90)\n",
    "        \n",
    "        t.end_fill()\n",
    "        t.penup()\n",
    "\n",
    "def getCood(x, y):\n",
    "    colors = ['yellow', 'blue', 'green', 'purple', 'orange', 'pink', 'cyan', 'lightgreen']\n",
    "    random_color = random.choice(colors)\n",
    "    \n",
    "    now = myTurtle(random_color, (x, y))\n",
    "    now.render()\n",
    "\n",
    "sc = t.Screen()\n",
    "sc.title(\"Colorful Turtle Squares\")\n",
    "\n",
    "t.penup()\n",
    "t.onscreenclick(getCood)\n",
    "t.done()\n"
   ]
  }
 ],
 "metadata": {
  "kernelspec": {
   "display_name": "Python 3",
   "language": "python",
   "name": "python3"
  },
  "language_info": {
   "codemirror_mode": {
    "name": "ipython",
    "version": 3
   },
   "file_extension": ".py",
   "mimetype": "text/x-python",
   "name": "python",
   "nbconvert_exporter": "python",
   "pygments_lexer": "ipython3",
   "version": "3.12.5"
  }
 },
 "nbformat": 4,
 "nbformat_minor": 2
}
